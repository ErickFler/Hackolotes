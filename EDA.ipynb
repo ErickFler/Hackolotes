{
 "cells": [
  {
   "cell_type": "code",
   "execution_count": 7,
   "id": "6024c1c1",
   "metadata": {},
   "outputs": [],
   "source": [
    "from ydata_profiling import ProfileReport\n",
    "import pandas as pd\n",
    "import numpy as np"
   ]
  },
  {
   "cell_type": "code",
   "execution_count": null,
   "id": "5e44fec0",
   "metadata": {},
   "outputs": [],
   "source": [
    "expirationdate = pd.read_excel(\"/Users/floresjr/HackMty2025/HackMTY2025_ChallengeDimensions/01_ExpirationDateManagement/[HackMTY2025]_ExpirationDateManagement_Dataset_v1.xlsx\")\n",
    "\n",
    "consumption_prediction = pd.read_excel(\"/Users/floresjr/HackMty2025/HackMTY2025_ChallengeDimensions/02_ConsumptionPrediction/[HackMTY2025]_ConsumptionPrediction_Dataset_v1.xlsx\")\n",
    "\n",
    "producttivity = pd.read_excel(\"/Users/floresjr/HackMty2025/HackMTY2025_ChallengeDimensions/03_ProductivityEstimation/[HackMTY2025]_ProductivityEstimation_Dataset_v1.xlsx\")\n"
   ]
  },
  {
   "cell_type": "code",
   "execution_count": null,
   "id": "cc6740a5",
   "metadata": {},
   "outputs": [
    {
     "data": {
      "application/vnd.jupyter.widget-view+json": {
       "model_id": "b3cac4e5a33544dc8da36a0e18147078",
       "version_major": 2,
       "version_minor": 0
      },
      "text/plain": [
       "Summarize dataset:   0%|          | 0/5 [00:00<?, ?it/s]"
      ]
     },
     "metadata": {},
     "output_type": "display_data"
    },
    {
     "name": "stderr",
     "output_type": "stream",
     "text": [
      "100%|██████████| 6/6 [00:00<00:00, 1752.86it/s]\n"
     ]
    },
    {
     "data": {
      "application/vnd.jupyter.widget-view+json": {
       "model_id": "ee6bb53a1fc74092ba09e8d7403442ba",
       "version_major": 2,
       "version_minor": 0
      },
      "text/plain": [
       "Generate report structure:   0%|          | 0/1 [00:00<?, ?it/s]"
      ]
     },
     "metadata": {},
     "output_type": "display_data"
    },
    {
     "data": {
      "application/vnd.jupyter.widget-view+json": {
       "model_id": "64a87af048214f76bcabbe7d410c7539",
       "version_major": 2,
       "version_minor": 0
      },
      "text/plain": [
       "Render HTML:   0%|          | 0/1 [00:00<?, ?it/s]"
      ]
     },
     "metadata": {},
     "output_type": "display_data"
    },
    {
     "data": {
      "application/vnd.jupyter.widget-view+json": {
       "model_id": "fc47a77fb48f4ee6b6cdb54af191378c",
       "version_major": 2,
       "version_minor": 0
      },
      "text/plain": [
       "Export report to file:   0%|          | 0/1 [00:00<?, ?it/s]"
      ]
     },
     "metadata": {},
     "output_type": "display_data"
    }
   ],
   "source": [
    "profile = ProfileReport(expirationdate, title= \"Exploration on expirationdate.xlsx\")\n",
    "profile.to_file(\"analisis_exploratorioexpirationdate.html\")"
   ]
  },
  {
   "cell_type": "code",
   "execution_count": null,
   "id": "351d4602",
   "metadata": {},
   "outputs": [
    {
     "data": {
      "application/vnd.jupyter.widget-view+json": {
       "model_id": "cfeafa8b52c448019edd97d12f6d8218",
       "version_major": 2,
       "version_minor": 0
      },
      "text/plain": [
       "Summarize dataset:   0%|          | 0/5 [00:00<?, ?it/s]"
      ]
     },
     "metadata": {},
     "output_type": "display_data"
    },
    {
     "name": "stderr",
     "output_type": "stream",
     "text": [
      "100%|██████████| 13/13 [00:00<00:00, 260889.72it/s]\n"
     ]
    },
    {
     "data": {
      "application/vnd.jupyter.widget-view+json": {
       "model_id": "37d56a8b853244e7827626f4ac7e6ce3",
       "version_major": 2,
       "version_minor": 0
      },
      "text/plain": [
       "Generate report structure:   0%|          | 0/1 [00:00<?, ?it/s]"
      ]
     },
     "metadata": {},
     "output_type": "display_data"
    },
    {
     "data": {
      "application/vnd.jupyter.widget-view+json": {
       "model_id": "6f9286ecb5d04a7599288231f52a3558",
       "version_major": 2,
       "version_minor": 0
      },
      "text/plain": [
       "Render HTML:   0%|          | 0/1 [00:00<?, ?it/s]"
      ]
     },
     "metadata": {},
     "output_type": "display_data"
    },
    {
     "data": {
      "application/vnd.jupyter.widget-view+json": {
       "model_id": "b459c6472cd041e9959682dbff4e7895",
       "version_major": 2,
       "version_minor": 0
      },
      "text/plain": [
       "Export report to file:   0%|          | 0/1 [00:00<?, ?it/s]"
      ]
     },
     "metadata": {},
     "output_type": "display_data"
    }
   ],
   "source": [
    "profile2 = ProfileReport(consumption_prediction, title= \"Exploration on consumption_prediction.xlsx\")\n",
    "profile2.to_file(\"analisis_exploratorioconsumption_prediction.html\")"
   ]
  },
  {
   "cell_type": "code",
   "execution_count": null,
   "id": "a4d26e8b",
   "metadata": {},
   "outputs": [
    {
     "data": {
      "application/vnd.jupyter.widget-view+json": {
       "model_id": "72465b694d824b3b846e5ce156d7ad29",
       "version_major": 2,
       "version_minor": 0
      },
      "text/plain": [
       "Summarize dataset:   0%|          | 0/5 [00:00<?, ?it/s]"
      ]
     },
     "metadata": {},
     "output_type": "display_data"
    },
    {
     "name": "stderr",
     "output_type": "stream",
     "text": [
      "100%|██████████| 6/6 [00:00<00:00, 848.65it/s]\n"
     ]
    },
    {
     "data": {
      "application/vnd.jupyter.widget-view+json": {
       "model_id": "ad8b1501d7224b6d8662094b0f74e2d9",
       "version_major": 2,
       "version_minor": 0
      },
      "text/plain": [
       "Generate report structure:   0%|          | 0/1 [00:00<?, ?it/s]"
      ]
     },
     "metadata": {},
     "output_type": "display_data"
    },
    {
     "data": {
      "application/vnd.jupyter.widget-view+json": {
       "model_id": "afb1002d43024ae6b3e6df881da91813",
       "version_major": 2,
       "version_minor": 0
      },
      "text/plain": [
       "Render HTML:   0%|          | 0/1 [00:00<?, ?it/s]"
      ]
     },
     "metadata": {},
     "output_type": "display_data"
    },
    {
     "data": {
      "application/vnd.jupyter.widget-view+json": {
       "model_id": "067b4bfb5e9e4afdb564f56e813f4b0d",
       "version_major": 2,
       "version_minor": 0
      },
      "text/plain": [
       "Export report to file:   0%|          | 0/1 [00:00<?, ?it/s]"
      ]
     },
     "metadata": {},
     "output_type": "display_data"
    }
   ],
   "source": [
    "profile3 = ProfileReport(producttivity, title= \"Exploration on producttivity.xlsx\")\n",
    "profile3.to_file(\"analisis_explatorioproducttivity.html\")"
   ]
  },
  {
   "cell_type": "code",
   "execution_count": 4,
   "id": "a5507b4c",
   "metadata": {},
   "outputs": [
    {
     "data": {
      "application/vnd.microsoft.datawrangler.viewer.v0+json": {
       "columns": [
        {
         "name": "index",
         "rawType": "int64",
         "type": "integer"
        },
        {
         "name": "Product_ID",
         "rawType": "object",
         "type": "string"
        },
        {
         "name": "Product_Name",
         "rawType": "object",
         "type": "string"
        },
        {
         "name": "Weight_or_Volume",
         "rawType": "object",
         "type": "string"
        },
        {
         "name": "LOT_Number",
         "rawType": "object",
         "type": "string"
        },
        {
         "name": "Expiry_Date",
         "rawType": "object",
         "type": "string"
        },
        {
         "name": "Quantity",
         "rawType": "int64",
         "type": "integer"
        }
       ],
       "ref": "194e72f4-4d4e-4d02-8771-5b61c149ba2a",
       "rows": [
        [
         "0",
         "COF006",
         "Instant Coffee Stick",
         "200ml",
         "LOT-E19",
         "2025-12-10",
         "231"
        ],
        [
         "1",
         "CHS010",
         "Cheese Portion Pack",
         "150g",
         "LOT-E99",
         "2025-10-29",
         "484"
        ],
        [
         "2",
         "SNK001",
         "Snack Box Economy",
         "150g",
         "LOT-A68",
         "2025-12-05",
         "357"
        ],
        [
         "3",
         "SNK001",
         "Snack Box Economy",
         "250ml",
         "LOT-C79",
         "2025-10-14",
         "509"
        ],
        [
         "4",
         "SNK001",
         "Snack Box Economy",
         "150g",
         "LOT-B86",
         "2025-12-12",
         "500"
        ],
        [
         "5",
         "DRK002",
         "Bottled Water 0.5L",
         "300g",
         "LOT-D64",
         "2025-11-09",
         "363"
        ],
        [
         "6",
         "SNK001",
         "Snack Box Economy",
         "100ml",
         "LOT-E22",
         "2025-10-14",
         "589"
        ],
        [
         "7",
         "BIS007",
         "Sweet Biscuit Pack",
         "300g",
         "LOT-B26",
         "2025-11-14",
         "191"
        ],
        [
         "8",
         "SAL008",
         "Mixed Salad Bowl",
         "300g",
         "LOT-B85",
         "2025-10-19",
         "100"
        ],
        [
         "9",
         "SND004",
         "Chicken Sandwich",
         "100ml",
         "LOT-C83",
         "2025-11-26",
         "585"
        ],
        [
         "10",
         "MLK003",
         "Powdered Milk Sachet",
         "150g",
         "LOT-A14",
         "2025-12-10",
         "255"
        ],
        [
         "11",
         "BIS007",
         "Sweet Biscuit Pack",
         "200ml",
         "LOT-A79",
         "2025-11-14",
         "455"
        ],
        [
         "12",
         "FRU009",
         "Fruit Cup 150g",
         "250ml",
         "LOT-A95",
         "2025-12-23",
         "177"
        ],
        [
         "13",
         "FRU009",
         "Fruit Cup 150g",
         "200ml",
         "LOT-D59",
         "2025-11-16",
         "379"
        ],
        [
         "14",
         "SNK001",
         "Snack Box Economy",
         "150g",
         "LOT-B89",
         "2025-11-08",
         "302"
        ],
        [
         "15",
         "FRU009",
         "Fruit Cup 150g",
         "250ml",
         "LOT-A76",
         "2025-12-24",
         "207"
        ],
        [
         "16",
         "COF006",
         "Instant Coffee Stick",
         "250ml",
         "LOT-B58",
         "2025-10-22",
         "219"
        ],
        [
         "17",
         "BIS007",
         "Sweet Biscuit Pack",
         "150g",
         "LOT-E22",
         "2025-11-07",
         "406"
        ],
        [
         "18",
         "JCE005",
         "Orange Juice 200ml",
         "150g",
         "LOT-C84",
         "2025-12-15",
         "384"
        ],
        [
         "19",
         "JCE005",
         "Orange Juice 200ml",
         "180g",
         "LOT-D65",
         "2025-11-25",
         "304"
        ],
        [
         "20",
         "BIS007",
         "Sweet Biscuit Pack",
         "300g",
         "LOT-D50",
         "2025-11-06",
         "397"
        ],
        [
         "21",
         "JCE005",
         "Orange Juice 200ml",
         "180g",
         "LOT-D63",
         "2025-12-30",
         "114"
        ],
        [
         "22",
         "JCE005",
         "Orange Juice 200ml",
         "100ml",
         "LOT-B37",
         "2026-01-03",
         "305"
        ],
        [
         "23",
         "SNK001",
         "Snack Box Economy",
         "250ml",
         "LOT-E95",
         "2025-12-10",
         "413"
        ],
        [
         "24",
         "SNK001",
         "Snack Box Economy",
         "250ml",
         "LOT-B74",
         "2025-11-21",
         "552"
        ],
        [
         "25",
         "SAL008",
         "Mixed Salad Bowl",
         "100ml",
         "LOT-C83",
         "2025-11-01",
         "537"
        ],
        [
         "26",
         "DRK002",
         "Bottled Water 0.5L",
         "180g",
         "LOT-A49",
         "2025-12-04",
         "308"
        ],
        [
         "27",
         "SND004",
         "Chicken Sandwich",
         "250ml",
         "LOT-C41",
         "2025-12-03",
         "319"
        ],
        [
         "28",
         "SNK001",
         "Snack Box Economy",
         "300g",
         "LOT-C65",
         "2025-10-29",
         "278"
        ],
        [
         "29",
         "SNK001",
         "Snack Box Economy",
         "300g",
         "LOT-B81",
         "2025-11-13",
         "242"
        ],
        [
         "30",
         "SAL008",
         "Mixed Salad Bowl",
         "180g",
         "LOT-D36",
         "2025-11-06",
         "444"
        ],
        [
         "31",
         "SND004",
         "Chicken Sandwich",
         "180g",
         "LOT-D54",
         "2025-10-18",
         "597"
        ],
        [
         "32",
         "DRK002",
         "Bottled Water 0.5L",
         "200ml",
         "LOT-B95",
         "2025-12-14",
         "568"
        ],
        [
         "33",
         "SAL008",
         "Mixed Salad Bowl",
         "200ml",
         "LOT-A60",
         "2026-01-03",
         "351"
        ],
        [
         "34",
         "FRU009",
         "Fruit Cup 150g",
         "150g",
         "LOT-D14",
         "2025-12-11",
         "212"
        ],
        [
         "35",
         "MLK003",
         "Powdered Milk Sachet",
         "180g",
         "LOT-E39",
         "2025-10-12",
         "303"
        ],
        [
         "36",
         "DRK002",
         "Bottled Water 0.5L",
         "200ml",
         "LOT-D46",
         "2026-01-04",
         "380"
        ],
        [
         "37",
         "FRU009",
         "Fruit Cup 150g",
         "100ml",
         "LOT-D29",
         "2025-11-29",
         "573"
        ],
        [
         "38",
         "CHS010",
         "Cheese Portion Pack",
         "250ml",
         "LOT-E46",
         "2025-10-11",
         "510"
        ],
        [
         "39",
         "DRK002",
         "Bottled Water 0.5L",
         "180g",
         "LOT-C62",
         "2025-10-14",
         "437"
        ],
        [
         "40",
         "FRU009",
         "Fruit Cup 150g",
         "300g",
         "LOT-A71",
         "2025-11-12",
         "384"
        ],
        [
         "41",
         "SAL008",
         "Mixed Salad Bowl",
         "200ml",
         "LOT-E52",
         "2025-12-11",
         "478"
        ],
        [
         "42",
         "SND004",
         "Chicken Sandwich",
         "180g",
         "LOT-B72",
         "2025-11-10",
         "575"
        ],
        [
         "43",
         "CHS010",
         "Cheese Portion Pack",
         "250ml",
         "LOT-D39",
         "2025-11-11",
         "281"
        ],
        [
         "44",
         "FRU009",
         "Fruit Cup 150g",
         "250ml",
         "LOT-C86",
         "2025-12-15",
         "340"
        ],
        [
         "45",
         "SND004",
         "Chicken Sandwich",
         "250ml",
         "LOT-D40",
         "2025-11-21",
         "577"
        ],
        [
         "46",
         "COF006",
         "Instant Coffee Stick",
         "200ml",
         "LOT-A52",
         "2025-12-07",
         "553"
        ],
        [
         "47",
         "MLK003",
         "Powdered Milk Sachet",
         "200ml",
         "LOT-A37",
         "2025-11-16",
         "87"
        ],
        [
         "48",
         "FRU009",
         "Fruit Cup 150g",
         "150g",
         "LOT-A79",
         "2025-10-16",
         "201"
        ],
        [
         "49",
         "FRU009",
         "Fruit Cup 150g",
         "180g",
         "LOT-A97",
         "2025-11-10",
         "217"
        ]
       ],
       "shape": {
        "columns": 6,
        "rows": 150
       }
      },
      "text/html": [
       "<div>\n",
       "<style scoped>\n",
       "    .dataframe tbody tr th:only-of-type {\n",
       "        vertical-align: middle;\n",
       "    }\n",
       "\n",
       "    .dataframe tbody tr th {\n",
       "        vertical-align: top;\n",
       "    }\n",
       "\n",
       "    .dataframe thead th {\n",
       "        text-align: right;\n",
       "    }\n",
       "</style>\n",
       "<table border=\"1\" class=\"dataframe\">\n",
       "  <thead>\n",
       "    <tr style=\"text-align: right;\">\n",
       "      <th></th>\n",
       "      <th>Product_ID</th>\n",
       "      <th>Product_Name</th>\n",
       "      <th>Weight_or_Volume</th>\n",
       "      <th>LOT_Number</th>\n",
       "      <th>Expiry_Date</th>\n",
       "      <th>Quantity</th>\n",
       "    </tr>\n",
       "  </thead>\n",
       "  <tbody>\n",
       "    <tr>\n",
       "      <th>0</th>\n",
       "      <td>COF006</td>\n",
       "      <td>Instant Coffee Stick</td>\n",
       "      <td>200ml</td>\n",
       "      <td>LOT-E19</td>\n",
       "      <td>2025-12-10</td>\n",
       "      <td>231</td>\n",
       "    </tr>\n",
       "    <tr>\n",
       "      <th>1</th>\n",
       "      <td>CHS010</td>\n",
       "      <td>Cheese Portion Pack</td>\n",
       "      <td>150g</td>\n",
       "      <td>LOT-E99</td>\n",
       "      <td>2025-10-29</td>\n",
       "      <td>484</td>\n",
       "    </tr>\n",
       "    <tr>\n",
       "      <th>2</th>\n",
       "      <td>SNK001</td>\n",
       "      <td>Snack Box Economy</td>\n",
       "      <td>150g</td>\n",
       "      <td>LOT-A68</td>\n",
       "      <td>2025-12-05</td>\n",
       "      <td>357</td>\n",
       "    </tr>\n",
       "    <tr>\n",
       "      <th>3</th>\n",
       "      <td>SNK001</td>\n",
       "      <td>Snack Box Economy</td>\n",
       "      <td>250ml</td>\n",
       "      <td>LOT-C79</td>\n",
       "      <td>2025-10-14</td>\n",
       "      <td>509</td>\n",
       "    </tr>\n",
       "    <tr>\n",
       "      <th>4</th>\n",
       "      <td>SNK001</td>\n",
       "      <td>Snack Box Economy</td>\n",
       "      <td>150g</td>\n",
       "      <td>LOT-B86</td>\n",
       "      <td>2025-12-12</td>\n",
       "      <td>500</td>\n",
       "    </tr>\n",
       "    <tr>\n",
       "      <th>...</th>\n",
       "      <td>...</td>\n",
       "      <td>...</td>\n",
       "      <td>...</td>\n",
       "      <td>...</td>\n",
       "      <td>...</td>\n",
       "      <td>...</td>\n",
       "    </tr>\n",
       "    <tr>\n",
       "      <th>145</th>\n",
       "      <td>JCE005</td>\n",
       "      <td>Orange Juice 200ml</td>\n",
       "      <td>200ml</td>\n",
       "      <td>LOT-D53</td>\n",
       "      <td>2025-12-22</td>\n",
       "      <td>495</td>\n",
       "    </tr>\n",
       "    <tr>\n",
       "      <th>146</th>\n",
       "      <td>JCE005</td>\n",
       "      <td>Orange Juice 200ml</td>\n",
       "      <td>180g</td>\n",
       "      <td>LOT-A73</td>\n",
       "      <td>2025-10-25</td>\n",
       "      <td>585</td>\n",
       "    </tr>\n",
       "    <tr>\n",
       "      <th>147</th>\n",
       "      <td>SNK001</td>\n",
       "      <td>Snack Box Economy</td>\n",
       "      <td>150g</td>\n",
       "      <td>LOT-E96</td>\n",
       "      <td>2025-10-08</td>\n",
       "      <td>253</td>\n",
       "    </tr>\n",
       "    <tr>\n",
       "      <th>148</th>\n",
       "      <td>SND004</td>\n",
       "      <td>Chicken Sandwich</td>\n",
       "      <td>150g</td>\n",
       "      <td>LOT-B17</td>\n",
       "      <td>2025-12-25</td>\n",
       "      <td>244</td>\n",
       "    </tr>\n",
       "    <tr>\n",
       "      <th>149</th>\n",
       "      <td>SAL008</td>\n",
       "      <td>Mixed Salad Bowl</td>\n",
       "      <td>250ml</td>\n",
       "      <td>LOT-C48</td>\n",
       "      <td>2025-12-03</td>\n",
       "      <td>412</td>\n",
       "    </tr>\n",
       "  </tbody>\n",
       "</table>\n",
       "<p>150 rows × 6 columns</p>\n",
       "</div>"
      ],
      "text/plain": [
       "    Product_ID          Product_Name Weight_or_Volume LOT_Number Expiry_Date  \\\n",
       "0       COF006  Instant Coffee Stick            200ml    LOT-E19  2025-12-10   \n",
       "1       CHS010   Cheese Portion Pack             150g    LOT-E99  2025-10-29   \n",
       "2       SNK001     Snack Box Economy             150g    LOT-A68  2025-12-05   \n",
       "3       SNK001     Snack Box Economy            250ml    LOT-C79  2025-10-14   \n",
       "4       SNK001     Snack Box Economy             150g    LOT-B86  2025-12-12   \n",
       "..         ...                   ...              ...        ...         ...   \n",
       "145     JCE005    Orange Juice 200ml            200ml    LOT-D53  2025-12-22   \n",
       "146     JCE005    Orange Juice 200ml             180g    LOT-A73  2025-10-25   \n",
       "147     SNK001     Snack Box Economy             150g    LOT-E96  2025-10-08   \n",
       "148     SND004      Chicken Sandwich             150g    LOT-B17  2025-12-25   \n",
       "149     SAL008      Mixed Salad Bowl            250ml    LOT-C48  2025-12-03   \n",
       "\n",
       "     Quantity  \n",
       "0         231  \n",
       "1         484  \n",
       "2         357  \n",
       "3         509  \n",
       "4         500  \n",
       "..        ...  \n",
       "145       495  \n",
       "146       585  \n",
       "147       253  \n",
       "148       244  \n",
       "149       412  \n",
       "\n",
       "[150 rows x 6 columns]"
      ]
     },
     "metadata": {},
     "output_type": "display_data"
    }
   ],
   "source": [
    "display(expirationdate)"
   ]
  },
  {
   "cell_type": "code",
   "execution_count": null,
   "id": "819917d0",
   "metadata": {},
   "outputs": [
    {
     "data": {
      "application/vnd.microsoft.datawrangler.viewer.v0+json": {
       "columns": [
        {
         "name": "index",
         "rawType": "int64",
         "type": "integer"
        },
        {
         "name": "Flight_ID",
         "rawType": "object",
         "type": "string"
        },
        {
         "name": "Origin",
         "rawType": "object",
         "type": "string"
        },
        {
         "name": "Date",
         "rawType": "object",
         "type": "string"
        },
        {
         "name": "Flight_Type",
         "rawType": "object",
         "type": "string"
        },
        {
         "name": "Service_Type",
         "rawType": "object",
         "type": "string"
        },
        {
         "name": "Passenger_Count",
         "rawType": "int64",
         "type": "integer"
        },
        {
         "name": "Product_ID",
         "rawType": "object",
         "type": "string"
        },
        {
         "name": "Product_Name",
         "rawType": "object",
         "type": "string"
        },
        {
         "name": "Standard_Specification_Qty",
         "rawType": "int64",
         "type": "integer"
        },
        {
         "name": "Quantity_Returned",
         "rawType": "int64",
         "type": "integer"
        },
        {
         "name": "Quantity_Consumed",
         "rawType": "int64",
         "type": "integer"
        },
        {
         "name": "Unit_Cost",
         "rawType": "float64",
         "type": "float"
        },
        {
         "name": "Crew_Feedback",
         "rawType": "object",
         "type": "unknown"
        }
       ],
       "ref": "e04057d8-ffe7-4571-938f-b96b7dbed9c1",
       "rows": [
        [
         "0",
         "AM109",
         "DOH",
         "2025-09-26",
         "medium-haul",
         "Retail",
         "272",
         "BRD001",
         "Bread Roll Pack",
         "62",
         "7",
         "55",
         "0.35",
         null
        ],
        [
         "1",
         "AM109",
         "DOH",
         "2025-09-26",
         "medium-haul",
         "Retail",
         "272",
         "CRK075",
         "Butter Cookies 75g",
         "74",
         "14",
         "60",
         "0.75",
         null
        ],
        [
         "2",
         "AM109",
         "DOH",
         "2025-09-26",
         "medium-haul",
         "Retail",
         "272",
         "DRK023",
         "Sparkling Water 330ml",
         "125",
         "30",
         "95",
         "0.45",
         null
        ],
        [
         "3",
         "AM109",
         "DOH",
         "2025-09-26",
         "medium-haul",
         "Retail",
         "272",
         "DRK024",
         "Still Water 500ml",
         "110",
         "19",
         "91",
         "0.5",
         null
        ],
        [
         "4",
         "LX110",
         "DOH",
         "2025-09-26",
         "medium-haul",
         "Pick & Pack",
         "272",
         "BRD001",
         "Bread Roll Pack",
         "177",
         "58",
         "119",
         "0.35",
         null
        ],
        [
         "5",
         "LX110",
         "DOH",
         "2025-09-26",
         "medium-haul",
         "Pick & Pack",
         "272",
         "CHO050",
         "Chocolate Bar 50g",
         "147",
         "48",
         "99",
         "0.8",
         null
        ],
        [
         "6",
         "LX110",
         "DOH",
         "2025-09-26",
         "medium-haul",
         "Pick & Pack",
         "272",
         "CRK075",
         "Butter Cookies 75g",
         "131",
         "36",
         "95",
         "0.75",
         "drawer incomplete"
        ],
        [
         "7",
         "LX110",
         "DOH",
         "2025-09-26",
         "medium-haul",
         "Pick & Pack",
         "272",
         "DRK023",
         "Sparkling Water 330ml",
         "205",
         "37",
         "168",
         "0.45",
         null
        ],
        [
         "8",
         "LX110",
         "DOH",
         "2025-09-26",
         "medium-haul",
         "Pick & Pack",
         "272",
         "DRK024",
         "Still Water 500ml",
         "197",
         "95",
         "102",
         "0.5",
         null
        ],
        [
         "9",
         "LX110",
         "DOH",
         "2025-09-26",
         "medium-haul",
         "Pick & Pack",
         "272",
         "JCE200",
         "Juice 200ml",
         "231",
         "97",
         "134",
         "0.55",
         null
        ],
        [
         "10",
         "LX110",
         "DOH",
         "2025-09-26",
         "medium-haul",
         "Pick & Pack",
         "272",
         "SNK001",
         "Snack Box Economy",
         "179",
         "41",
         "138",
         "2.1",
         null
        ],
        [
         "11",
         "AA105",
         "JFK",
         "2025-09-26",
         "long-haul",
         "Retail",
         "288",
         "BRD001",
         "Bread Roll Pack",
         "67",
         "11",
         "56",
         "0.35",
         null
        ],
        [
         "12",
         "AA105",
         "JFK",
         "2025-09-26",
         "long-haul",
         "Retail",
         "288",
         "CHO050",
         "Chocolate Bar 50g",
         "79",
         "14",
         "65",
         "0.8",
         "drawer incomplete"
        ],
        [
         "13",
         "AA105",
         "JFK",
         "2025-09-26",
         "long-haul",
         "Retail",
         "288",
         "CRK075",
         "Butter Cookies 75g",
         "80",
         "16",
         "64",
         "0.75",
         null
        ],
        [
         "14",
         "AA105",
         "JFK",
         "2025-09-26",
         "long-haul",
         "Retail",
         "288",
         "HTB110",
         "Herbal Tea Bag",
         "89",
         "5",
         "84",
         "0.06",
         null
        ],
        [
         "15",
         "AA105",
         "JFK",
         "2025-09-26",
         "long-haul",
         "Retail",
         "288",
         "JCE200",
         "Juice 200ml",
         "114",
         "21",
         "93",
         "0.55",
         null
        ],
        [
         "16",
         "AA105",
         "JFK",
         "2025-09-26",
         "long-haul",
         "Retail",
         "288",
         "NUT030",
         "Mixed Nuts 30g",
         "92",
         "17",
         "75",
         "0.65",
         null
        ],
        [
         "17",
         "BA106",
         "JFK",
         "2025-09-26",
         "long-haul",
         "Pick & Pack",
         "289",
         "CHO050",
         "Chocolate Bar 50g",
         "163",
         "53",
         "110",
         "0.8",
         null
        ],
        [
         "18",
         "BA106",
         "JFK",
         "2025-09-26",
         "long-haul",
         "Pick & Pack",
         "289",
         "COF200",
         "Instant Coffee Stick",
         "142",
         "29",
         "113",
         "0.08",
         null
        ],
        [
         "19",
         "BA106",
         "JFK",
         "2025-09-26",
         "long-haul",
         "Pick & Pack",
         "289",
         "CRK075",
         "Butter Cookies 75g",
         "149",
         "29",
         "120",
         "0.75",
         null
        ],
        [
         "20",
         "BA106",
         "JFK",
         "2025-09-26",
         "long-haul",
         "Pick & Pack",
         "289",
         "DRK023",
         "Sparkling Water 330ml",
         "250",
         "117",
         "133",
         "0.45",
         null
        ],
        [
         "21",
         "BA106",
         "JFK",
         "2025-09-26",
         "long-haul",
         "Pick & Pack",
         "289",
         "DRK024",
         "Still Water 500ml",
         "223",
         "85",
         "138",
         "0.5",
         null
        ],
        [
         "22",
         "BA106",
         "JFK",
         "2025-09-26",
         "long-haul",
         "Pick & Pack",
         "289",
         "JCE200",
         "Juice 200ml",
         "213",
         "47",
         "166",
         "0.55",
         null
        ],
        [
         "23",
         "AM104",
         "LHR",
         "2025-09-26",
         "short-haul",
         "Retail",
         "145",
         "COF200",
         "Instant Coffee Stick",
         "49",
         "5",
         "44",
         "0.08",
         "drawer incomplete"
        ],
        [
         "24",
         "AM104",
         "LHR",
         "2025-09-26",
         "short-haul",
         "Retail",
         "145",
         "JCE200",
         "Juice 200ml",
         "57",
         "6",
         "51",
         "0.55",
         null
        ],
        [
         "25",
         "AM104",
         "LHR",
         "2025-09-26",
         "short-haul",
         "Retail",
         "145",
         "NUT030",
         "Mixed Nuts 30g",
         "41",
         "4",
         "37",
         "0.65",
         null
        ],
        [
         "26",
         "AM104",
         "LHR",
         "2025-09-26",
         "short-haul",
         "Retail",
         "145",
         "SNK001",
         "Snack Box Economy",
         "37",
         "6",
         "31",
         "2.1",
         null
        ],
        [
         "27",
         "LX103",
         "LHR",
         "2025-09-26",
         "short-haul",
         "Retail",
         "137",
         "BRD001",
         "Bread Roll Pack",
         "36",
         "5",
         "31",
         "0.35",
         null
        ],
        [
         "28",
         "LX103",
         "LHR",
         "2025-09-26",
         "short-haul",
         "Retail",
         "137",
         "COF200",
         "Instant Coffee Stick",
         "43",
         "6",
         "37",
         "0.08",
         null
        ],
        [
         "29",
         "LX103",
         "LHR",
         "2025-09-26",
         "short-haul",
         "Retail",
         "137",
         "CRK075",
         "Butter Cookies 75g",
         "44",
         "4",
         "40",
         "0.75",
         null
        ],
        [
         "30",
         "LX103",
         "LHR",
         "2025-09-26",
         "short-haul",
         "Retail",
         "137",
         "DRK024",
         "Still Water 500ml",
         "56",
         "10",
         "46",
         "0.5",
         null
        ],
        [
         "31",
         "LX103",
         "LHR",
         "2025-09-26",
         "short-haul",
         "Retail",
         "137",
         "NUT030",
         "Mixed Nuts 30g",
         "44",
         "3",
         "41",
         "0.65",
         "ran out early"
        ],
        [
         "32",
         "LX103",
         "LHR",
         "2025-09-26",
         "short-haul",
         "Retail",
         "137",
         "SNK001",
         "Snack Box Economy",
         "36",
         "8",
         "28",
         "2.1",
         null
        ],
        [
         "33",
         "AM111",
         "MEX",
         "2025-09-26",
         "long-haul",
         "Retail",
         "321",
         "CHO050",
         "Chocolate Bar 50g",
         "109",
         "17",
         "92",
         "0.8",
         null
        ],
        [
         "34",
         "AM111",
         "MEX",
         "2025-09-26",
         "long-haul",
         "Retail",
         "321",
         "CRK075",
         "Butter Cookies 75g",
         "110",
         "23",
         "87",
         "0.75",
         "drawer incomplete"
        ],
        [
         "35",
         "AM111",
         "MEX",
         "2025-09-26",
         "long-haul",
         "Retail",
         "321",
         "DRK023",
         "Sparkling Water 330ml",
         "135",
         "37",
         "98",
         "0.45",
         null
        ],
        [
         "36",
         "AM111",
         "MEX",
         "2025-09-26",
         "long-haul",
         "Retail",
         "321",
         "DRK024",
         "Still Water 500ml",
         "136",
         "30",
         "106",
         "0.5",
         null
        ],
        [
         "37",
         "AM111",
         "MEX",
         "2025-09-26",
         "long-haul",
         "Retail",
         "321",
         "HTB110",
         "Herbal Tea Bag",
         "92",
         "10",
         "82",
         "0.06",
         null
        ],
        [
         "38",
         "AM111",
         "MEX",
         "2025-09-26",
         "long-haul",
         "Retail",
         "321",
         "JCE200",
         "Juice 200ml",
         "120",
         "28",
         "92",
         "0.55",
         null
        ],
        [
         "39",
         "AM111",
         "MEX",
         "2025-09-26",
         "long-haul",
         "Retail",
         "321",
         "SNK001",
         "Snack Box Economy",
         "89",
         "15",
         "74",
         "2.1",
         null
        ],
        [
         "40",
         "AM112",
         "MEX",
         "2025-09-26",
         "long-haul",
         "Retail",
         "329",
         "BRD001",
         "Bread Roll Pack",
         "93",
         "5",
         "88",
         "0.35",
         null
        ],
        [
         "41",
         "AM112",
         "MEX",
         "2025-09-26",
         "long-haul",
         "Retail",
         "329",
         "COF200",
         "Instant Coffee Stick",
         "92",
         "9",
         "83",
         "0.08",
         null
        ],
        [
         "42",
         "AM112",
         "MEX",
         "2025-09-26",
         "long-haul",
         "Retail",
         "329",
         "CRK075",
         "Butter Cookies 75g",
         "99",
         "17",
         "82",
         "0.75",
         null
        ],
        [
         "43",
         "AM112",
         "MEX",
         "2025-09-26",
         "long-haul",
         "Retail",
         "329",
         "JCE200",
         "Juice 200ml",
         "126",
         "16",
         "110",
         "0.55",
         null
        ],
        [
         "44",
         "AM112",
         "MEX",
         "2025-09-26",
         "long-haul",
         "Retail",
         "329",
         "NUT030",
         "Mixed Nuts 30g",
         "103",
         "11",
         "92",
         "0.65",
         null
        ],
        [
         "45",
         "BA107",
         "NRT",
         "2025-09-26",
         "long-haul",
         "Retail",
         "317",
         "CHO050",
         "Chocolate Bar 50g",
         "106",
         "20",
         "86",
         "0.8",
         null
        ],
        [
         "46",
         "BA107",
         "NRT",
         "2025-09-26",
         "long-haul",
         "Retail",
         "317",
         "HTB110",
         "Herbal Tea Bag",
         "94",
         "9",
         "85",
         "0.06",
         null
        ],
        [
         "47",
         "BA107",
         "NRT",
         "2025-09-26",
         "long-haul",
         "Retail",
         "317",
         "NUT030",
         "Mixed Nuts 30g",
         "91",
         "11",
         "80",
         "0.65",
         null
        ],
        [
         "48",
         "BA107",
         "NRT",
         "2025-09-26",
         "long-haul",
         "Retail",
         "317",
         "SNK001",
         "Snack Box Economy",
         "79",
         "19",
         "60",
         "2.1",
         null
        ],
        [
         "49",
         "BA108",
         "NRT",
         "2025-09-26",
         "long-haul",
         "Pick & Pack",
         "292",
         "BRD001",
         "Bread Roll Pack",
         "195",
         "45",
         "150",
         "0.35",
         null
        ]
       ],
       "shape": {
        "columns": 13,
        "rows": 792
       }
      },
      "text/html": [
       "<div>\n",
       "<style scoped>\n",
       "    .dataframe tbody tr th:only-of-type {\n",
       "        vertical-align: middle;\n",
       "    }\n",
       "\n",
       "    .dataframe tbody tr th {\n",
       "        vertical-align: top;\n",
       "    }\n",
       "\n",
       "    .dataframe thead th {\n",
       "        text-align: right;\n",
       "    }\n",
       "</style>\n",
       "<table border=\"1\" class=\"dataframe\">\n",
       "  <thead>\n",
       "    <tr style=\"text-align: right;\">\n",
       "      <th></th>\n",
       "      <th>Flight_ID</th>\n",
       "      <th>Origin</th>\n",
       "      <th>Date</th>\n",
       "      <th>Flight_Type</th>\n",
       "      <th>Service_Type</th>\n",
       "      <th>Passenger_Count</th>\n",
       "      <th>Product_ID</th>\n",
       "      <th>Product_Name</th>\n",
       "      <th>Standard_Specification_Qty</th>\n",
       "      <th>Quantity_Returned</th>\n",
       "      <th>Quantity_Consumed</th>\n",
       "      <th>Unit_Cost</th>\n",
       "      <th>Crew_Feedback</th>\n",
       "    </tr>\n",
       "  </thead>\n",
       "  <tbody>\n",
       "    <tr>\n",
       "      <th>0</th>\n",
       "      <td>AM109</td>\n",
       "      <td>DOH</td>\n",
       "      <td>2025-09-26</td>\n",
       "      <td>medium-haul</td>\n",
       "      <td>Retail</td>\n",
       "      <td>272</td>\n",
       "      <td>BRD001</td>\n",
       "      <td>Bread Roll Pack</td>\n",
       "      <td>62</td>\n",
       "      <td>7</td>\n",
       "      <td>55</td>\n",
       "      <td>0.35</td>\n",
       "      <td>NaN</td>\n",
       "    </tr>\n",
       "    <tr>\n",
       "      <th>1</th>\n",
       "      <td>AM109</td>\n",
       "      <td>DOH</td>\n",
       "      <td>2025-09-26</td>\n",
       "      <td>medium-haul</td>\n",
       "      <td>Retail</td>\n",
       "      <td>272</td>\n",
       "      <td>CRK075</td>\n",
       "      <td>Butter Cookies 75g</td>\n",
       "      <td>74</td>\n",
       "      <td>14</td>\n",
       "      <td>60</td>\n",
       "      <td>0.75</td>\n",
       "      <td>NaN</td>\n",
       "    </tr>\n",
       "    <tr>\n",
       "      <th>2</th>\n",
       "      <td>AM109</td>\n",
       "      <td>DOH</td>\n",
       "      <td>2025-09-26</td>\n",
       "      <td>medium-haul</td>\n",
       "      <td>Retail</td>\n",
       "      <td>272</td>\n",
       "      <td>DRK023</td>\n",
       "      <td>Sparkling Water 330ml</td>\n",
       "      <td>125</td>\n",
       "      <td>30</td>\n",
       "      <td>95</td>\n",
       "      <td>0.45</td>\n",
       "      <td>NaN</td>\n",
       "    </tr>\n",
       "    <tr>\n",
       "      <th>3</th>\n",
       "      <td>AM109</td>\n",
       "      <td>DOH</td>\n",
       "      <td>2025-09-26</td>\n",
       "      <td>medium-haul</td>\n",
       "      <td>Retail</td>\n",
       "      <td>272</td>\n",
       "      <td>DRK024</td>\n",
       "      <td>Still Water 500ml</td>\n",
       "      <td>110</td>\n",
       "      <td>19</td>\n",
       "      <td>91</td>\n",
       "      <td>0.50</td>\n",
       "      <td>NaN</td>\n",
       "    </tr>\n",
       "    <tr>\n",
       "      <th>4</th>\n",
       "      <td>LX110</td>\n",
       "      <td>DOH</td>\n",
       "      <td>2025-09-26</td>\n",
       "      <td>medium-haul</td>\n",
       "      <td>Pick &amp; Pack</td>\n",
       "      <td>272</td>\n",
       "      <td>BRD001</td>\n",
       "      <td>Bread Roll Pack</td>\n",
       "      <td>177</td>\n",
       "      <td>58</td>\n",
       "      <td>119</td>\n",
       "      <td>0.35</td>\n",
       "      <td>NaN</td>\n",
       "    </tr>\n",
       "    <tr>\n",
       "      <th>...</th>\n",
       "      <td>...</td>\n",
       "      <td>...</td>\n",
       "      <td>...</td>\n",
       "      <td>...</td>\n",
       "      <td>...</td>\n",
       "      <td>...</td>\n",
       "      <td>...</td>\n",
       "      <td>...</td>\n",
       "      <td>...</td>\n",
       "      <td>...</td>\n",
       "      <td>...</td>\n",
       "      <td>...</td>\n",
       "      <td>...</td>\n",
       "    </tr>\n",
       "    <tr>\n",
       "      <th>787</th>\n",
       "      <td>QR233</td>\n",
       "      <td>ZRH</td>\n",
       "      <td>2025-10-07</td>\n",
       "      <td>short-haul</td>\n",
       "      <td>Retail</td>\n",
       "      <td>148</td>\n",
       "      <td>CRK075</td>\n",
       "      <td>Butter Cookies 75g</td>\n",
       "      <td>40</td>\n",
       "      <td>4</td>\n",
       "      <td>36</td>\n",
       "      <td>0.75</td>\n",
       "      <td>NaN</td>\n",
       "    </tr>\n",
       "    <tr>\n",
       "      <th>788</th>\n",
       "      <td>QR233</td>\n",
       "      <td>ZRH</td>\n",
       "      <td>2025-10-07</td>\n",
       "      <td>short-haul</td>\n",
       "      <td>Retail</td>\n",
       "      <td>148</td>\n",
       "      <td>DRK023</td>\n",
       "      <td>Sparkling Water 330ml</td>\n",
       "      <td>66</td>\n",
       "      <td>5</td>\n",
       "      <td>61</td>\n",
       "      <td>0.45</td>\n",
       "      <td>NaN</td>\n",
       "    </tr>\n",
       "    <tr>\n",
       "      <th>789</th>\n",
       "      <td>QR233</td>\n",
       "      <td>ZRH</td>\n",
       "      <td>2025-10-07</td>\n",
       "      <td>short-haul</td>\n",
       "      <td>Retail</td>\n",
       "      <td>148</td>\n",
       "      <td>DRK024</td>\n",
       "      <td>Still Water 500ml</td>\n",
       "      <td>64</td>\n",
       "      <td>13</td>\n",
       "      <td>51</td>\n",
       "      <td>0.50</td>\n",
       "      <td>NaN</td>\n",
       "    </tr>\n",
       "    <tr>\n",
       "      <th>790</th>\n",
       "      <td>QR233</td>\n",
       "      <td>ZRH</td>\n",
       "      <td>2025-10-07</td>\n",
       "      <td>short-haul</td>\n",
       "      <td>Retail</td>\n",
       "      <td>148</td>\n",
       "      <td>HTB110</td>\n",
       "      <td>Herbal Tea Bag</td>\n",
       "      <td>43</td>\n",
       "      <td>3</td>\n",
       "      <td>40</td>\n",
       "      <td>0.06</td>\n",
       "      <td>ran out early</td>\n",
       "    </tr>\n",
       "    <tr>\n",
       "      <th>791</th>\n",
       "      <td>QR233</td>\n",
       "      <td>ZRH</td>\n",
       "      <td>2025-10-07</td>\n",
       "      <td>short-haul</td>\n",
       "      <td>Retail</td>\n",
       "      <td>148</td>\n",
       "      <td>JCE200</td>\n",
       "      <td>Juice 200ml</td>\n",
       "      <td>61</td>\n",
       "      <td>12</td>\n",
       "      <td>49</td>\n",
       "      <td>0.55</td>\n",
       "      <td>NaN</td>\n",
       "    </tr>\n",
       "  </tbody>\n",
       "</table>\n",
       "<p>792 rows × 13 columns</p>\n",
       "</div>"
      ],
      "text/plain": [
       "    Flight_ID Origin        Date  Flight_Type Service_Type  Passenger_Count  \\\n",
       "0       AM109    DOH  2025-09-26  medium-haul       Retail              272   \n",
       "1       AM109    DOH  2025-09-26  medium-haul       Retail              272   \n",
       "2       AM109    DOH  2025-09-26  medium-haul       Retail              272   \n",
       "3       AM109    DOH  2025-09-26  medium-haul       Retail              272   \n",
       "4       LX110    DOH  2025-09-26  medium-haul  Pick & Pack              272   \n",
       "..        ...    ...         ...          ...          ...              ...   \n",
       "787     QR233    ZRH  2025-10-07   short-haul       Retail              148   \n",
       "788     QR233    ZRH  2025-10-07   short-haul       Retail              148   \n",
       "789     QR233    ZRH  2025-10-07   short-haul       Retail              148   \n",
       "790     QR233    ZRH  2025-10-07   short-haul       Retail              148   \n",
       "791     QR233    ZRH  2025-10-07   short-haul       Retail              148   \n",
       "\n",
       "    Product_ID           Product_Name  Standard_Specification_Qty  \\\n",
       "0       BRD001        Bread Roll Pack                          62   \n",
       "1       CRK075     Butter Cookies 75g                          74   \n",
       "2       DRK023  Sparkling Water 330ml                         125   \n",
       "3       DRK024      Still Water 500ml                         110   \n",
       "4       BRD001        Bread Roll Pack                         177   \n",
       "..         ...                    ...                         ...   \n",
       "787     CRK075     Butter Cookies 75g                          40   \n",
       "788     DRK023  Sparkling Water 330ml                          66   \n",
       "789     DRK024      Still Water 500ml                          64   \n",
       "790     HTB110         Herbal Tea Bag                          43   \n",
       "791     JCE200            Juice 200ml                          61   \n",
       "\n",
       "     Quantity_Returned  Quantity_Consumed  Unit_Cost  Crew_Feedback  \n",
       "0                    7                 55       0.35            NaN  \n",
       "1                   14                 60       0.75            NaN  \n",
       "2                   30                 95       0.45            NaN  \n",
       "3                   19                 91       0.50            NaN  \n",
       "4                   58                119       0.35            NaN  \n",
       "..                 ...                ...        ...            ...  \n",
       "787                  4                 36       0.75            NaN  \n",
       "788                  5                 61       0.45            NaN  \n",
       "789                 13                 51       0.50            NaN  \n",
       "790                  3                 40       0.06  ran out early  \n",
       "791                 12                 49       0.55            NaN  \n",
       "\n",
       "[792 rows x 13 columns]"
      ]
     },
     "metadata": {},
     "output_type": "display_data"
    }
   ],
   "source": [
    "display(consumption_prediction)"
   ]
  },
  {
   "cell_type": "code",
   "execution_count": 6,
   "id": "5bd69de0",
   "metadata": {},
   "outputs": [
    {
     "data": {
      "application/vnd.microsoft.datawrangler.viewer.v0+json": {
       "columns": [
        {
         "name": "index",
         "rawType": "int64",
         "type": "integer"
        },
        {
         "name": "Drawer_ID",
         "rawType": "object",
         "type": "string"
        },
        {
         "name": "Flight_Type",
         "rawType": "object",
         "type": "string"
        },
        {
         "name": "Drawer_Category",
         "rawType": "object",
         "type": "string"
        },
        {
         "name": "Total_Items",
         "rawType": "int64",
         "type": "integer"
        },
        {
         "name": "Unique_Item_Types",
         "rawType": "int64",
         "type": "integer"
        },
        {
         "name": "Item_List",
         "rawType": "object",
         "type": "string"
        }
       ],
       "ref": "f1bee63f-8b28-48bc-9066-a445c7e5fb7b",
       "rows": [
        [
         "0",
         "DRW_001",
         "Business",
         "Beverage",
         "12",
         "4",
         "CUTL01, CUTL02, CUP01, SNK01"
        ],
        [
         "1",
         "DRW_002",
         "Economy",
         "Breakfast",
         "11",
         "5",
         "CUP01, BUT02, SNK02, CUTL02, SNK01"
        ],
        [
         "2",
         "DRW_003",
         "Business",
         "Snack",
         "15",
         "7",
         "SNK02, BUT02, DRK05, SNK03, STR01, JAM02, CUTL01"
        ],
        [
         "3",
         "DRW_004",
         "Business",
         "Breakfast",
         "20",
         "9",
         "BUT01, BRD02, FRU01, JAM02, SNK03, STR01, TIS01, JAM01, FRU02"
        ],
        [
         "4",
         "DRW_005",
         "Business",
         "Breakfast",
         "12",
         "5",
         "FRU01, MIL01, TIS01, DRK05, DRK03"
        ],
        [
         "5",
         "DRW_006",
         "Business",
         "Snack",
         "36",
         "14",
         "BUT01, SNK02, DRK01, SNK01, CUTL02, BRD02, STR01, SNK05, BRD01, DRK05, CUP02, CUTL01, DRK03, SUG01"
        ],
        [
         "6",
         "DRW_007",
         "Economy",
         "Breakfast",
         "23",
         "10",
         "SNK01, CUTL01, STR01, SNK02, CUP02, DRK03, CUP01, FRU02, CUTL02, NAP01"
        ],
        [
         "7",
         "DRW_008",
         "Business",
         "Breakfast",
         "20",
         "8",
         "DRK01, NAP01, CUTL01, JAM01, CUTL02, FRU01, STR01, DRK04"
        ],
        [
         "8",
         "DRW_009",
         "Economy",
         "Beverage",
         "26",
         "10",
         "BUT01, CUP01, JAM01, SUG01, SNK04, SNK03, CUTL02, DRK01, NAP01, STR01"
        ],
        [
         "9",
         "DRW_010",
         "Economy",
         "Beverage",
         "10",
         "4",
         "DRK02, CUP02, DRK03, SUG01"
        ],
        [
         "10",
         "DRW_011",
         "Business",
         "Beverage",
         "30",
         "13",
         "SNK02, STR01, SUG01, CUTL01, BRD01, CUTL02, SNK04, NAP01, SNK01, DRK05, BUT02, FRU01, JAM01"
        ],
        [
         "11",
         "DRW_012",
         "Economy",
         "Breakfast",
         "39",
         "14",
         "FRU02, CUP01, JAM01, BRD01, JAM02, SUG01, FRU01, DRK01, CUP02, DRK05, STR01, CUTL01, SNK01, CUTL02"
        ],
        [
         "12",
         "DRW_013",
         "Economy",
         "Breakfast",
         "36",
         "13",
         "SUG01, NAP01, DRK03, FRU02, STR01, SNK01, SNK02, BUT01, BRD02, MIL01, CUP01, JAM02, DRK05"
        ],
        [
         "13",
         "DRW_014",
         "Economy",
         "Amenities",
         "17",
         "7",
         "FRU02, SNK04, CUTL02, TIS01, DRK01, CUP01, CUP02"
        ],
        [
         "14",
         "DRW_015",
         "Economy",
         "Amenities",
         "20",
         "7",
         "BRD02, SNK02, FRU01, MIL01, SNK04, SNK01, STR01"
        ],
        [
         "15",
         "DRW_016",
         "Business",
         "Beverage",
         "17",
         "6",
         "CUTL02, BUT01, SNK04, TIS01, SNK01, BRD01"
        ],
        [
         "16",
         "DRW_017",
         "Economy",
         "Breakfast",
         "12",
         "4",
         "SNK04, SUG01, JAM02, BUT02"
        ],
        [
         "17",
         "DRW_018",
         "Economy",
         "Breakfast",
         "21",
         "9",
         "MIL01, CUTL01, SNK05, DRK05, SUG01, SNK03, CUTL02, DRK03, FRU02"
        ],
        [
         "18",
         "DRW_019",
         "Economy",
         "Snack",
         "16",
         "6",
         "CUP01, NAP01, DRK01, FRU02, MIL01, SNK02"
        ],
        [
         "19",
         "DRW_020",
         "Economy",
         "Amenities",
         "39",
         "13",
         "DRK02, JAM02, CUP01, FRU02, MIL01, FRU01, SNK03, SNK01, NAP01, TIS01, SUG01, SNK02, BRD01"
        ],
        [
         "20",
         "DRW_021",
         "Economy",
         "Snack",
         "33",
         "15",
         "DRK01, SUG01, SNK05, SNK02, CUP01, MIL01, DRK05, SNK03, JAM01, FRU01, JAM02, BUT01, CUP02, BRD01, CUTL01"
        ],
        [
         "21",
         "DRW_022",
         "Economy",
         "Snack",
         "26",
         "9",
         "BUT01, DRK01, CUP02, DRK04, SNK04, MIL01, BUT02, BRD01, SNK03"
        ],
        [
         "22",
         "DRW_023",
         "Business",
         "Breakfast",
         "15",
         "7",
         "CUTL02, JAM02, NAP01, SNK03, CUP01, CUTL01, TIS01"
        ],
        [
         "23",
         "DRW_024",
         "Business",
         "Breakfast",
         "27",
         "13",
         "SNK05, CUTL02, FRU01, CUTL01, DRK01, FRU02, JAM01, SNK01, DRK05, SNK02, SNK03, DRK02, CUP02"
        ],
        [
         "24",
         "DRW_025",
         "Economy",
         "Breakfast",
         "37",
         "14",
         "SUG01, CUTL01, DRK01, SNK02, BUT01, CUTL02, TIS01, MIL01, SNK05, JAM02, STR01, DRK04, SNK04, NAP01"
        ],
        [
         "25",
         "DRW_026",
         "Business",
         "Snack",
         "25",
         "10",
         "JAM01, DRK01, MIL01, DRK04, SNK02, SNK03, SNK04, BRD01, CUP01, FRU01"
        ],
        [
         "26",
         "DRW_027",
         "Business",
         "Amenities",
         "28",
         "10",
         "SNK05, CUP01, FRU02, CUP02, SNK03, SNK04, SNK02, BUT01, BRD02, TIS01"
        ],
        [
         "27",
         "DRW_028",
         "Business",
         "Breakfast",
         "21",
         "10",
         "FRU02, SNK05, SNK02, SNK01, DRK02, SUG01, JAM02, SNK04, MIL01, DRK05"
        ],
        [
         "28",
         "DRW_029",
         "Business",
         "Amenities",
         "9",
         "4",
         "BRD01, SNK05, STR01, SUG01"
        ],
        [
         "29",
         "DRW_030",
         "Business",
         "Breakfast",
         "29",
         "12",
         "FRU02, JAM01, JAM02, BUT01, SNK03, SUG01, TIS01, CUP02, MIL01, CUTL01, SNK02, BRD02"
        ],
        [
         "30",
         "DRW_031",
         "Business",
         "Amenities",
         "18",
         "9",
         "JAM02, SNK05, DRK03, STR01, JAM01, BRD02, SNK04, FRU02, BUT02"
        ],
        [
         "31",
         "DRW_032",
         "Economy",
         "Breakfast",
         "36",
         "12",
         "DRK05, TIS01, JAM01, DRK04, BUT02, CUP02, DRK03, CUP01, SNK02, FRU01, BRD01, SNK04"
        ],
        [
         "32",
         "DRW_033",
         "Economy",
         "Amenities",
         "12",
         "4",
         "BUT02, MIL01, JAM02, STR01"
        ],
        [
         "33",
         "DRW_034",
         "Business",
         "Breakfast",
         "19",
         "8",
         "DRK03, DRK05, CUTL01, SNK01, NAP01, DRK04, FRU02, BUT02"
        ],
        [
         "34",
         "DRW_035",
         "Economy",
         "Beverage",
         "26",
         "9",
         "CUTL02, DRK03, SNK03, NAP01, CUP01, CUTL01, TIS01, SNK05, BRD01"
        ],
        [
         "35",
         "DRW_036",
         "Business",
         "Beverage",
         "41",
         "14",
         "JAM02, CUTL01, CUTL02, BUT01, SNK03, SNK02, DRK04, SNK04, MIL01, SNK01, BRD02, BUT02, FRU02, FRU01"
        ],
        [
         "36",
         "DRW_037",
         "Business",
         "Beverage",
         "26",
         "12",
         "SNK04, BRD01, SNK05, DRK01, CUP02, SUG01, FRU01, DRK03, DRK05, FRU02, CUTL01, SNK02"
        ],
        [
         "37",
         "DRW_038",
         "Economy",
         "Amenities",
         "17",
         "8",
         "BRD02, DRK01, DRK05, DRK04, STR01, TIS01, DRK03, SNK01"
        ],
        [
         "38",
         "DRW_039",
         "Economy",
         "Amenities",
         "17",
         "7",
         "CUTL01, SNK02, JAM01, MIL01, DRK01, SUG01, SNK05"
        ],
        [
         "39",
         "DRW_040",
         "Business",
         "Snack",
         "19",
         "8",
         "CUP02, JAM02, SNK05, DRK04, SNK04, FRU01, SNK01, BRD01"
        ],
        [
         "40",
         "DRW_041",
         "Economy",
         "Snack",
         "33",
         "13",
         "SNK02, SNK04, SNK03, CUP01, SNK01, FRU02, SUG01, STR01, CUTL01, DRK02, BUT01, NAP01, DRK01"
        ],
        [
         "41",
         "DRW_042",
         "Business",
         "Beverage",
         "18",
         "8",
         "DRK03, DRK02, SNK02, CUTL01, BUT01, CUP01, NAP01, SNK05"
        ],
        [
         "42",
         "DRW_043",
         "Business",
         "Snack",
         "18",
         "9",
         "SNK04, NAP01, BUT02, STR01, MIL01, SUG01, DRK02, JAM01, CUP02"
        ],
        [
         "43",
         "DRW_044",
         "Economy",
         "Amenities",
         "19",
         "8",
         "NAP01, BRD02, JAM02, SNK03, BUT02, JAM01, SNK01, DRK02"
        ],
        [
         "44",
         "DRW_045",
         "Business",
         "Beverage",
         "20",
         "7",
         "MIL01, SNK05, TIS01, SNK02, JAM02, STR01, CUP02"
        ],
        [
         "45",
         "DRW_046",
         "Business",
         "Snack",
         "41",
         "15",
         "TIS01, SNK05, FRU01, DRK03, BUT01, BRD01, SUG01, FRU02, DRK01, CUTL02, CUTL01, JAM02, STR01, SNK04, CUP02"
        ],
        [
         "46",
         "DRW_047",
         "Economy",
         "Snack",
         "27",
         "13",
         "SNK03, BRD01, BUT02, SNK05, STR01, CUTL01, DRK02, JAM02, BRD02, CUTL02, FRU02, SUG01, FRU01"
        ],
        [
         "47",
         "DRW_048",
         "Economy",
         "Snack",
         "31",
         "12",
         "SNK05, CUTL01, FRU02, SNK02, CUP02, BRD02, JAM01, JAM02, BRD01, BUT01, FRU01, SUG01"
        ],
        [
         "48",
         "DRW_049",
         "Business",
         "Beverage",
         "11",
         "4",
         "CUTL02, SNK01, SNK04, CUP02"
        ],
        [
         "49",
         "DRW_050",
         "Business",
         "Snack",
         "14",
         "5",
         "DRK03, STR01, CUTL01, SNK03, JAM02"
        ]
       ],
       "shape": {
        "columns": 6,
        "rows": 100
       }
      },
      "text/html": [
       "<div>\n",
       "<style scoped>\n",
       "    .dataframe tbody tr th:only-of-type {\n",
       "        vertical-align: middle;\n",
       "    }\n",
       "\n",
       "    .dataframe tbody tr th {\n",
       "        vertical-align: top;\n",
       "    }\n",
       "\n",
       "    .dataframe thead th {\n",
       "        text-align: right;\n",
       "    }\n",
       "</style>\n",
       "<table border=\"1\" class=\"dataframe\">\n",
       "  <thead>\n",
       "    <tr style=\"text-align: right;\">\n",
       "      <th></th>\n",
       "      <th>Drawer_ID</th>\n",
       "      <th>Flight_Type</th>\n",
       "      <th>Drawer_Category</th>\n",
       "      <th>Total_Items</th>\n",
       "      <th>Unique_Item_Types</th>\n",
       "      <th>Item_List</th>\n",
       "    </tr>\n",
       "  </thead>\n",
       "  <tbody>\n",
       "    <tr>\n",
       "      <th>0</th>\n",
       "      <td>DRW_001</td>\n",
       "      <td>Business</td>\n",
       "      <td>Beverage</td>\n",
       "      <td>12</td>\n",
       "      <td>4</td>\n",
       "      <td>CUTL01, CUTL02, CUP01, SNK01</td>\n",
       "    </tr>\n",
       "    <tr>\n",
       "      <th>1</th>\n",
       "      <td>DRW_002</td>\n",
       "      <td>Economy</td>\n",
       "      <td>Breakfast</td>\n",
       "      <td>11</td>\n",
       "      <td>5</td>\n",
       "      <td>CUP01, BUT02, SNK02, CUTL02, SNK01</td>\n",
       "    </tr>\n",
       "    <tr>\n",
       "      <th>2</th>\n",
       "      <td>DRW_003</td>\n",
       "      <td>Business</td>\n",
       "      <td>Snack</td>\n",
       "      <td>15</td>\n",
       "      <td>7</td>\n",
       "      <td>SNK02, BUT02, DRK05, SNK03, STR01, JAM02, CUTL01</td>\n",
       "    </tr>\n",
       "    <tr>\n",
       "      <th>3</th>\n",
       "      <td>DRW_004</td>\n",
       "      <td>Business</td>\n",
       "      <td>Breakfast</td>\n",
       "      <td>20</td>\n",
       "      <td>9</td>\n",
       "      <td>BUT01, BRD02, FRU01, JAM02, SNK03, STR01, TIS0...</td>\n",
       "    </tr>\n",
       "    <tr>\n",
       "      <th>4</th>\n",
       "      <td>DRW_005</td>\n",
       "      <td>Business</td>\n",
       "      <td>Breakfast</td>\n",
       "      <td>12</td>\n",
       "      <td>5</td>\n",
       "      <td>FRU01, MIL01, TIS01, DRK05, DRK03</td>\n",
       "    </tr>\n",
       "    <tr>\n",
       "      <th>...</th>\n",
       "      <td>...</td>\n",
       "      <td>...</td>\n",
       "      <td>...</td>\n",
       "      <td>...</td>\n",
       "      <td>...</td>\n",
       "      <td>...</td>\n",
       "    </tr>\n",
       "    <tr>\n",
       "      <th>95</th>\n",
       "      <td>DRW_096</td>\n",
       "      <td>Business</td>\n",
       "      <td>Amenities</td>\n",
       "      <td>35</td>\n",
       "      <td>15</td>\n",
       "      <td>DRK04, DRK01, SNK02, STR01, BRD02, SUG01, SNK0...</td>\n",
       "    </tr>\n",
       "    <tr>\n",
       "      <th>96</th>\n",
       "      <td>DRW_097</td>\n",
       "      <td>Economy</td>\n",
       "      <td>Snack</td>\n",
       "      <td>18</td>\n",
       "      <td>6</td>\n",
       "      <td>CUTL01, DRK01, DRK05, FRU02, CUP02, BUT02</td>\n",
       "    </tr>\n",
       "    <tr>\n",
       "      <th>97</th>\n",
       "      <td>DRW_098</td>\n",
       "      <td>Business</td>\n",
       "      <td>Snack</td>\n",
       "      <td>41</td>\n",
       "      <td>15</td>\n",
       "      <td>DRK01, SNK03, BUT02, CUTL01, NAP01, CUP02, SNK...</td>\n",
       "    </tr>\n",
       "    <tr>\n",
       "      <th>98</th>\n",
       "      <td>DRW_099</td>\n",
       "      <td>Business</td>\n",
       "      <td>Beverage</td>\n",
       "      <td>35</td>\n",
       "      <td>15</td>\n",
       "      <td>NAP01, BUT02, SNK04, JAM02, SUG01, JAM01, STR0...</td>\n",
       "    </tr>\n",
       "    <tr>\n",
       "      <th>99</th>\n",
       "      <td>DRW_100</td>\n",
       "      <td>Economy</td>\n",
       "      <td>Breakfast</td>\n",
       "      <td>25</td>\n",
       "      <td>9</td>\n",
       "      <td>JAM02, SUG01, SNK04, SNK05, MIL01, DRK01, DRK0...</td>\n",
       "    </tr>\n",
       "  </tbody>\n",
       "</table>\n",
       "<p>100 rows × 6 columns</p>\n",
       "</div>"
      ],
      "text/plain": [
       "   Drawer_ID Flight_Type Drawer_Category  Total_Items  Unique_Item_Types  \\\n",
       "0    DRW_001    Business        Beverage           12                  4   \n",
       "1    DRW_002     Economy       Breakfast           11                  5   \n",
       "2    DRW_003    Business           Snack           15                  7   \n",
       "3    DRW_004    Business       Breakfast           20                  9   \n",
       "4    DRW_005    Business       Breakfast           12                  5   \n",
       "..       ...         ...             ...          ...                ...   \n",
       "95   DRW_096    Business       Amenities           35                 15   \n",
       "96   DRW_097     Economy           Snack           18                  6   \n",
       "97   DRW_098    Business           Snack           41                 15   \n",
       "98   DRW_099    Business        Beverage           35                 15   \n",
       "99   DRW_100     Economy       Breakfast           25                  9   \n",
       "\n",
       "                                            Item_List  \n",
       "0                        CUTL01, CUTL02, CUP01, SNK01  \n",
       "1                  CUP01, BUT02, SNK02, CUTL02, SNK01  \n",
       "2    SNK02, BUT02, DRK05, SNK03, STR01, JAM02, CUTL01  \n",
       "3   BUT01, BRD02, FRU01, JAM02, SNK03, STR01, TIS0...  \n",
       "4                   FRU01, MIL01, TIS01, DRK05, DRK03  \n",
       "..                                                ...  \n",
       "95  DRK04, DRK01, SNK02, STR01, BRD02, SUG01, SNK0...  \n",
       "96          CUTL01, DRK01, DRK05, FRU02, CUP02, BUT02  \n",
       "97  DRK01, SNK03, BUT02, CUTL01, NAP01, CUP02, SNK...  \n",
       "98  NAP01, BUT02, SNK04, JAM02, SUG01, JAM01, STR0...  \n",
       "99  JAM02, SUG01, SNK04, SNK05, MIL01, DRK01, DRK0...  \n",
       "\n",
       "[100 rows x 6 columns]"
      ]
     },
     "metadata": {},
     "output_type": "display_data"
    }
   ],
   "source": [
    "display(producttivity)"
   ]
  }
 ],
 "metadata": {
  "kernelspec": {
   "display_name": "Python 3",
   "language": "python",
   "name": "python3"
  },
  "language_info": {
   "codemirror_mode": {
    "name": "ipython",
    "version": 3
   },
   "file_extension": ".py",
   "mimetype": "text/x-python",
   "name": "python",
   "nbconvert_exporter": "python",
   "pygments_lexer": "ipython3",
   "version": "3.13.7"
  }
 },
 "nbformat": 4,
 "nbformat_minor": 5
}
